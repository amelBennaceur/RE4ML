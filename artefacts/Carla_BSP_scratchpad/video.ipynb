{
 "cells": [
  {
   "cell_type": "code",
   "execution_count": 13,
   "metadata": {},
   "outputs": [],
   "source": [
    "import cv2\n",
    "import os\n",
    "from glob import glob\n",
    "from tqdm import tqdm"
   ]
  },
  {
   "cell_type": "code",
   "execution_count": 14,
   "metadata": {},
   "outputs": [],
   "source": [
    "\n",
    "def create_video_from_images(image_folder, output_video_file, fps=30):\n",
    "    # Get all image file paths from the specified folder\n",
    "    images = glob(os.path.join(image_folder, '*.jpg')) + \\\n",
    "             glob(os.path.join(image_folder, '*.jpeg')) + \\\n",
    "             glob(os.path.join(image_folder, '*.png'))\n",
    "\n",
    "    # Sort images by filename to maintain order\n",
    "    images.sort(key=os.path.getmtime)\n",
    "\n",
    "    if not images:\n",
    "        print(\"No images found in the specified folder.\")\n",
    "        return\n",
    "\n",
    "    # Read the first image to get the dimensions\n",
    "    first_image = cv2.imread(images[0])\n",
    "    height, width, layers = first_image.shape\n",
    "\n",
    "    # Define the codec and create VideoWriter object\n",
    "    fourcc = cv2.VideoWriter_fourcc(*'mp4v')  # Use 'XVID' for .avi files\n",
    "    video_writer = cv2.VideoWriter(output_video_file, fourcc, fps, (width, height))\n",
    "\n",
    "    # Write each image to the video\n",
    "    for image in images:\n",
    "        img = cv2.imread(image)\n",
    "        video_writer.write(img)\n",
    "\n",
    "    # Release the video writer object\n",
    "    video_writer.release()\n",
    "    print(f\"Video saved as {output_video_file}\")\n"
   ]
  },
  {
   "cell_type": "code",
   "execution_count": 15,
   "metadata": {},
   "outputs": [],
   "source": [
    "# Example usage\n",
    "image_folder = '/home/darkaengl/Project/front_rgb'  # Replace with your folder path\n",
    "output_video_file = 'output_video.mp4'\n",
    "# "
   ]
  },
  {
   "cell_type": "code",
   "execution_count": 16,
   "metadata": {},
   "outputs": [],
   "source": [
    "# images = glob(image_folder + '/*')\n",
    "# images.sort(key=os.path.getmtime)"
   ]
  },
  {
   "cell_type": "code",
   "execution_count": 17,
   "metadata": {},
   "outputs": [
    {
     "name": "stdout",
     "output_type": "stream",
     "text": [
      "Video saved as output_video.mp4\n"
     ]
    }
   ],
   "source": [
    "create_video_from_images(image_folder, output_video_file)"
   ]
  },
  {
   "cell_type": "code",
   "execution_count": 12,
   "metadata": {},
   "outputs": [],
   "source": [
    "# images[0]"
   ]
  },
  {
   "cell_type": "code",
   "execution_count": null,
   "metadata": {},
   "outputs": [],
   "source": []
  }
 ],
 "metadata": {
  "kernelspec": {
   "display_name": "Python 3",
   "language": "python",
   "name": "python3"
  },
  "language_info": {
   "codemirror_mode": {
    "name": "ipython",
    "version": 3
   },
   "file_extension": ".py",
   "mimetype": "text/x-python",
   "name": "python",
   "nbconvert_exporter": "python",
   "pygments_lexer": "ipython3",
   "version": "3.10.12"
  }
 },
 "nbformat": 4,
 "nbformat_minor": 2
}
